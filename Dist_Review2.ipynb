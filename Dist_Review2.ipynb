{
 "metadata": {
  "name": "",
  "signature": "sha256:3d17a46ac3b7b4327d8aa8e18f1fcac7f57f9b909596001cc747b94f5b282352"
 },
 "nbformat": 3,
 "nbformat_minor": 0,
 "worksheets": [
  {
   "cells": [
    {
     "cell_type": "code",
     "collapsed": false,
     "input": [
      "%load_ext autoreload"
     ],
     "language": "python",
     "metadata": {},
     "outputs": [],
     "prompt_number": 1
    },
    {
     "cell_type": "code",
     "collapsed": false,
     "input": [
      "%autoreload 2"
     ],
     "language": "python",
     "metadata": {},
     "outputs": [],
     "prompt_number": 2
    },
    {
     "cell_type": "code",
     "collapsed": false,
     "input": [
      "from dist_review2 import *"
     ],
     "language": "python",
     "metadata": {},
     "outputs": [],
     "prompt_number": 3
    },
    {
     "cell_type": "code",
     "collapsed": false,
     "input": [
      "[clev, hung, switz, beach] = main()"
     ],
     "language": "python",
     "metadata": {},
     "outputs": [],
     "prompt_number": 98
    },
    {
     "cell_type": "code",
     "collapsed": false,
     "input": [
      "print beach.shape\n",
      "print clev.shape"
     ],
     "language": "python",
     "metadata": {},
     "outputs": [
      {
       "output_type": "stream",
       "stream": "stdout",
       "text": [
        "(140, 14)\n",
        "(303, 14)\n"
       ]
      }
     ],
     "prompt_number": 100
    },
    {
     "cell_type": "code",
     "collapsed": false,
     "input": [
      "clev.head()"
     ],
     "language": "python",
     "metadata": {},
     "outputs": [
      {
       "html": [
        "<div style=\"max-height:1000px;max-width:1500px;overflow:auto;\">\n",
        "<table border=\"1\" class=\"dataframe\">\n",
        "  <thead>\n",
        "    <tr style=\"text-align: right;\">\n",
        "      <th></th>\n",
        "      <th>age</th>\n",
        "      <th>sex</th>\n",
        "      <th>chest_pain</th>\n",
        "      <th>resting_blod_pressuremm_hg</th>\n",
        "      <th>cholesterol_mg/dl</th>\n",
        "      <th>fasting_blood_sugar</th>\n",
        "      <th>resting_ekg</th>\n",
        "      <th>max_heart_rate</th>\n",
        "      <th>excersice_induced_angina</th>\n",
        "      <th>ST_depression_induced_by_exercise_relative_to_rest</th>\n",
        "      <th>slope</th>\n",
        "      <th>num_vessels_colored_flurosopy</th>\n",
        "      <th>thal</th>\n",
        "      <th>diagnosis_of_heart_disease</th>\n",
        "    </tr>\n",
        "  </thead>\n",
        "  <tbody>\n",
        "    <tr>\n",
        "      <th>0</th>\n",
        "      <td> 63</td>\n",
        "      <td> 1</td>\n",
        "      <td> 1</td>\n",
        "      <td> 145</td>\n",
        "      <td> 233</td>\n",
        "      <td> 1</td>\n",
        "      <td> 2</td>\n",
        "      <td> 150</td>\n",
        "      <td> 0</td>\n",
        "      <td> 2.3</td>\n",
        "      <td> 3</td>\n",
        "      <td> 0.0</td>\n",
        "      <td> 6.0</td>\n",
        "      <td> 0</td>\n",
        "    </tr>\n",
        "    <tr>\n",
        "      <th>1</th>\n",
        "      <td> 67</td>\n",
        "      <td> 1</td>\n",
        "      <td> 4</td>\n",
        "      <td> 160</td>\n",
        "      <td> 286</td>\n",
        "      <td> 0</td>\n",
        "      <td> 2</td>\n",
        "      <td> 108</td>\n",
        "      <td> 1</td>\n",
        "      <td> 1.5</td>\n",
        "      <td> 2</td>\n",
        "      <td> 3.0</td>\n",
        "      <td> 3.0</td>\n",
        "      <td> 2</td>\n",
        "    </tr>\n",
        "    <tr>\n",
        "      <th>2</th>\n",
        "      <td> 67</td>\n",
        "      <td> 1</td>\n",
        "      <td> 4</td>\n",
        "      <td> 120</td>\n",
        "      <td> 229</td>\n",
        "      <td> 0</td>\n",
        "      <td> 2</td>\n",
        "      <td> 129</td>\n",
        "      <td> 1</td>\n",
        "      <td> 2.6</td>\n",
        "      <td> 2</td>\n",
        "      <td> 2.0</td>\n",
        "      <td> 7.0</td>\n",
        "      <td> 1</td>\n",
        "    </tr>\n",
        "    <tr>\n",
        "      <th>3</th>\n",
        "      <td> 37</td>\n",
        "      <td> 1</td>\n",
        "      <td> 3</td>\n",
        "      <td> 130</td>\n",
        "      <td> 250</td>\n",
        "      <td> 0</td>\n",
        "      <td> 0</td>\n",
        "      <td> 187</td>\n",
        "      <td> 0</td>\n",
        "      <td> 3.5</td>\n",
        "      <td> 3</td>\n",
        "      <td> 0.0</td>\n",
        "      <td> 3.0</td>\n",
        "      <td> 0</td>\n",
        "    </tr>\n",
        "    <tr>\n",
        "      <th>4</th>\n",
        "      <td> 41</td>\n",
        "      <td> 0</td>\n",
        "      <td> 2</td>\n",
        "      <td> 130</td>\n",
        "      <td> 204</td>\n",
        "      <td> 0</td>\n",
        "      <td> 2</td>\n",
        "      <td> 172</td>\n",
        "      <td> 0</td>\n",
        "      <td> 1.4</td>\n",
        "      <td> 1</td>\n",
        "      <td> 0.0</td>\n",
        "      <td> 3.0</td>\n",
        "      <td> 0</td>\n",
        "    </tr>\n",
        "  </tbody>\n",
        "</table>\n",
        "</div>"
       ],
       "metadata": {},
       "output_type": "pyout",
       "prompt_number": 6,
       "text": [
        "   age  sex  chest_pain  resting_blod_pressuremm_hg  cholesterol_mg/dl  \\\n",
        "0   63    1           1                         145                233   \n",
        "1   67    1           4                         160                286   \n",
        "2   67    1           4                         120                229   \n",
        "3   37    1           3                         130                250   \n",
        "4   41    0           2                         130                204   \n",
        "\n",
        "   fasting_blood_sugar  resting_ekg  max_heart_rate  excersice_induced_angina  \\\n",
        "0                    1            2             150                         0   \n",
        "1                    0            2             108                         1   \n",
        "2                    0            2             129                         1   \n",
        "3                    0            0             187                         0   \n",
        "4                    0            2             172                         0   \n",
        "\n",
        "   ST_depression_induced_by_exercise_relative_to_rest  slope  \\\n",
        "0                                                2.3       3   \n",
        "1                                                1.5       2   \n",
        "2                                                2.6       2   \n",
        "3                                                3.5       3   \n",
        "4                                                1.4       1   \n",
        "\n",
        "  num_vessels_colored_flurosopy thal  diagnosis_of_heart_disease  \n",
        "0                           0.0  6.0                           0  \n",
        "1                           3.0  3.0                           2  \n",
        "2                           2.0  7.0                           1  \n",
        "3                           0.0  3.0                           0  \n",
        "4                           0.0  3.0                           0  "
       ]
      }
     ],
     "prompt_number": 6
    },
    {
     "cell_type": "code",
     "collapsed": false,
     "input": [
      "beach.age = beach.age.astype('O')\n",
      "beach.sex = beach.sex.astype('O')"
     ],
     "language": "python",
     "metadata": {},
     "outputs": [],
     "prompt_number": 89
    },
    {
     "cell_type": "markdown",
     "metadata": {},
     "source": [
      "remove ? from  age, male/female, resting_blood_pressure_mm_hg, cholesterol_mg/dl (except for the swiss dataset) and max_heart_rate"
     ]
    },
    {
     "cell_type": "code",
     "collapsed": false,
     "input": [
      "beach = beach[(beach.age != '?') & (beach['max_heart_rate'] != '?') & (beach['resting_blod_pressuremm_hg'] != '?') & (beach['cholesterol_mg/dl'] != '?') & (beach.sex != '?')]"
     ],
     "language": "python",
     "metadata": {},
     "outputs": [],
     "prompt_number": 95
    },
    {
     "cell_type": "code",
     "collapsed": false,
     "input": [
      "beach.columns"
     ],
     "language": "python",
     "metadata": {},
     "outputs": [
      {
       "metadata": {},
       "output_type": "pyout",
       "prompt_number": 96,
       "text": [
        "Index([u'age', u'sex', u'chest_pain', u'resting_blod_pressuremm_hg', u'cholesterol_mg/dl', u'fasting_blood_sugar', u'resting_ekg', u'max_heart_rate', u'excersice_induced_angina', u'ST_depression_induced_by_exercise_relative_to_rest', u'slope', u'num_vessels_colored_flurosopy', u'thal', u'diagnosis_of_heart_disease'], dtype='object')"
       ]
      }
     ],
     "prompt_number": 96
    },
    {
     "cell_type": "code",
     "collapsed": false,
     "input": [
      "beach['sex'].dtype\n",
      "# beach['resting_blod_pressuremm_hg'].dtype\n",
      "# beach['cholesterol_mg/dl'].dtype\n",
      "# beach['max_heart_rate'].dtype\n",
      "# beach['age'].dtype"
     ],
     "language": "python",
     "metadata": {},
     "outputs": [
      {
       "metadata": {},
       "output_type": "pyout",
       "prompt_number": 94,
       "text": [
        "dtype('O')"
       ]
      }
     ],
     "prompt_number": 94
    },
    {
     "cell_type": "code",
     "collapsed": false,
     "input": [
      "beach.shape"
     ],
     "language": "python",
     "metadata": {},
     "outputs": [
      {
       "metadata": {},
       "output_type": "pyout",
       "prompt_number": 97,
       "text": [
        "(140, 14)"
       ]
      }
     ],
     "prompt_number": 97
    },
    {
     "cell_type": "markdown",
     "metadata": {},
     "source": [
      "Plot a distribution of ages for each cohort. plot all 4 groups as subplots in a 2 x 2 grid to see if the ages were sampled equally accross all groups Label your plots with the location of the patients and label axis with the correct descriptors. Add a legend to the upper left corner.`"
     ]
    }
   ],
   "metadata": {}
  }
 ]
}